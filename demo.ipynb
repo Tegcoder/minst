{
 "cells": [
  {
   "cell_type": "code",
   "execution_count": 7,
   "id": "a8a7cd59",
   "metadata": {
    "ExecuteTime": {
     "end_time": "2023-10-03T17:25:14.035471Z",
     "start_time": "2023-10-03T17:25:14.023287Z"
    }
   },
   "outputs": [
    {
     "name": "stdout",
     "output_type": "stream",
     "text": [
      "torch版本： 2.0.1+cu117\n"
     ]
    }
   ],
   "source": [
    "import torch\n",
    "print('torch版本：',torch.__version__)"
   ]
  },
  {
   "cell_type": "code",
   "execution_count": 9,
   "id": "d896500c",
   "metadata": {
    "ExecuteTime": {
     "end_time": "2023-10-03T17:28:41.696371Z",
     "start_time": "2023-10-03T17:28:40.705424Z"
    }
   },
   "outputs": [
    {
     "name": "stdout",
     "output_type": "stream",
     "text": [
      "device cuda:0\n"
     ]
    }
   ],
   "source": [
    "device= torch.device('cuda:0' if torch.cuda.is_available() else 'cpu')\n",
    "print('device',device)"
   ]
  },
  {
   "cell_type": "code",
   "execution_count": 8,
   "id": "e267db45",
   "metadata": {
    "ExecuteTime": {
     "end_time": "2023-10-03T17:25:17.361112Z",
     "start_time": "2023-10-03T17:25:17.356824Z"
    }
   },
   "outputs": [],
   "source": [
    "from torchvision import models"
   ]
  },
  {
   "cell_type": "code",
   "execution_count": 19,
   "id": "5cd81524",
   "metadata": {
    "ExecuteTime": {
     "end_time": "2023-10-03T18:19:06.895318Z",
     "start_time": "2023-10-03T18:19:06.394855Z"
    }
   },
   "outputs": [
    {
     "data": {
      "text/plain": [
       "torch.Size([1, 1000])"
      ]
     },
     "execution_count": 19,
     "metadata": {},
     "output_type": "execute_result"
    }
   ],
   "source": [
    "model= models.resnet50(weights=\"IMAGENET1K_V1\").to(device)\n",
    "model=model.eval().to(device)\n",
    "x=torch.randn(1,3,224,224).to(device)\n",
    "output=model(x)\n",
    "output.shape"
   ]
  },
  {
   "cell_type": "code",
   "execution_count": 21,
   "id": "21831353",
   "metadata": {
    "ExecuteTime": {
     "end_time": "2023-10-03T18:20:15.402045Z",
     "start_time": "2023-10-03T18:20:14.625152Z"
    }
   },
   "outputs": [
    {
     "name": "stdout",
     "output_type": "stream",
     "text": [
      "onnx版本： 1.14.1\n"
     ]
    }
   ],
   "source": [
    "import onnx\n",
    "print('onnx版本：',onnx.__version__)"
   ]
  },
  {
   "cell_type": "code",
   "execution_count": 22,
   "id": "8e671473",
   "metadata": {
    "ExecuteTime": {
     "end_time": "2023-10-03T18:24:53.167826Z",
     "start_time": "2023-10-03T18:24:50.635948Z"
    }
   },
   "outputs": [
    {
     "name": "stdout",
     "output_type": "stream",
     "text": [
      "============= Diagnostic Run torch.onnx.export version 2.0.1+cu117 =============\n",
      "verbose: False, log level: Level.ERROR\n",
      "======================= 0 NONE 0 NOTE 0 WARNING 0 ERROR ========================\n",
      "\n"
     ]
    }
   ],
   "source": [
    "with torch.no_grad():\n",
    "    torch.onnx.export(\n",
    "    model,\n",
    "    x,\n",
    "    'resnet50_imagenet.onnx',\n",
    "    opset_version=11,\n",
    "    input_names=['input'],\n",
    "    output_names=['output']\n",
    "    )"
   ]
  },
  {
   "cell_type": "code",
   "execution_count": 1,
   "id": "03195999",
   "metadata": {
    "ExecuteTime": {
     "end_time": "2023-10-04T02:17:47.264491Z",
     "start_time": "2023-10-04T02:17:46.821200Z"
    }
   },
   "outputs": [
    {
     "name": "stdout",
     "output_type": "stream",
     "text": [
      "无报错，onnx模型载入成功\n"
     ]
    }
   ],
   "source": [
    "import onnx\n",
    "onnx_model=onnx.load('resnet50_imagenet.onnx')\n",
    "onnx.checker.check_model(onnx_model)\n",
    "print('无报错，onnx模型载入成功')"
   ]
  },
  {
   "cell_type": "code",
   "execution_count": 2,
   "id": "df1f9fc6",
   "metadata": {
    "ExecuteTime": {
     "end_time": "2023-10-04T02:19:25.039521Z",
     "start_time": "2023-10-04T02:19:25.012387Z"
    }
   },
   "outputs": [
    {
     "name": "stdout",
     "output_type": "stream",
     "text": [
      "graph torch_jit (\n",
      "  %input[FLOAT, 1x3x224x224]\n",
      ") initializers (\n",
      "  %fc.weight[FLOAT, 1000x2048]\n",
      "  %fc.bias[FLOAT, 1000]\n",
      "  %onnx::Conv_497[FLOAT, 64x3x7x7]\n",
      "  %onnx::Conv_498[FLOAT, 64]\n",
      "  %onnx::Conv_500[FLOAT, 64x64x1x1]\n",
      "  %onnx::Conv_501[FLOAT, 64]\n",
      "  %onnx::Conv_503[FLOAT, 64x64x3x3]\n",
      "  %onnx::Conv_504[FLOAT, 64]\n",
      "  %onnx::Conv_506[FLOAT, 256x64x1x1]\n",
      "  %onnx::Conv_507[FLOAT, 256]\n",
      "  %onnx::Conv_509[FLOAT, 256x64x1x1]\n",
      "  %onnx::Conv_510[FLOAT, 256]\n",
      "  %onnx::Conv_512[FLOAT, 64x256x1x1]\n",
      "  %onnx::Conv_513[FLOAT, 64]\n",
      "  %onnx::Conv_515[FLOAT, 64x64x3x3]\n",
      "  %onnx::Conv_516[FLOAT, 64]\n",
      "  %onnx::Conv_518[FLOAT, 256x64x1x1]\n",
      "  %onnx::Conv_519[FLOAT, 256]\n",
      "  %onnx::Conv_521[FLOAT, 64x256x1x1]\n",
      "  %onnx::Conv_522[FLOAT, 64]\n",
      "  %onnx::Conv_524[FLOAT, 64x64x3x3]\n",
      "  %onnx::Conv_525[FLOAT, 64]\n",
      "  %onnx::Conv_527[FLOAT, 256x64x1x1]\n",
      "  %onnx::Conv_528[FLOAT, 256]\n",
      "  %onnx::Conv_530[FLOAT, 128x256x1x1]\n",
      "  %onnx::Conv_531[FLOAT, 128]\n",
      "  %onnx::Conv_533[FLOAT, 128x128x3x3]\n",
      "  %onnx::Conv_534[FLOAT, 128]\n",
      "  %onnx::Conv_536[FLOAT, 512x128x1x1]\n",
      "  %onnx::Conv_537[FLOAT, 512]\n",
      "  %onnx::Conv_539[FLOAT, 512x256x1x1]\n",
      "  %onnx::Conv_540[FLOAT, 512]\n",
      "  %onnx::Conv_542[FLOAT, 128x512x1x1]\n",
      "  %onnx::Conv_543[FLOAT, 128]\n",
      "  %onnx::Conv_545[FLOAT, 128x128x3x3]\n",
      "  %onnx::Conv_546[FLOAT, 128]\n",
      "  %onnx::Conv_548[FLOAT, 512x128x1x1]\n",
      "  %onnx::Conv_549[FLOAT, 512]\n",
      "  %onnx::Conv_551[FLOAT, 128x512x1x1]\n",
      "  %onnx::Conv_552[FLOAT, 128]\n",
      "  %onnx::Conv_554[FLOAT, 128x128x3x3]\n",
      "  %onnx::Conv_555[FLOAT, 128]\n",
      "  %onnx::Conv_557[FLOAT, 512x128x1x1]\n",
      "  %onnx::Conv_558[FLOAT, 512]\n",
      "  %onnx::Conv_560[FLOAT, 128x512x1x1]\n",
      "  %onnx::Conv_561[FLOAT, 128]\n",
      "  %onnx::Conv_563[FLOAT, 128x128x3x3]\n",
      "  %onnx::Conv_564[FLOAT, 128]\n",
      "  %onnx::Conv_566[FLOAT, 512x128x1x1]\n",
      "  %onnx::Conv_567[FLOAT, 512]\n",
      "  %onnx::Conv_569[FLOAT, 256x512x1x1]\n",
      "  %onnx::Conv_570[FLOAT, 256]\n",
      "  %onnx::Conv_572[FLOAT, 256x256x3x3]\n",
      "  %onnx::Conv_573[FLOAT, 256]\n",
      "  %onnx::Conv_575[FLOAT, 1024x256x1x1]\n",
      "  %onnx::Conv_576[FLOAT, 1024]\n",
      "  %onnx::Conv_578[FLOAT, 1024x512x1x1]\n",
      "  %onnx::Conv_579[FLOAT, 1024]\n",
      "  %onnx::Conv_581[FLOAT, 256x1024x1x1]\n",
      "  %onnx::Conv_582[FLOAT, 256]\n",
      "  %onnx::Conv_584[FLOAT, 256x256x3x3]\n",
      "  %onnx::Conv_585[FLOAT, 256]\n",
      "  %onnx::Conv_587[FLOAT, 1024x256x1x1]\n",
      "  %onnx::Conv_588[FLOAT, 1024]\n",
      "  %onnx::Conv_590[FLOAT, 256x1024x1x1]\n",
      "  %onnx::Conv_591[FLOAT, 256]\n",
      "  %onnx::Conv_593[FLOAT, 256x256x3x3]\n",
      "  %onnx::Conv_594[FLOAT, 256]\n",
      "  %onnx::Conv_596[FLOAT, 1024x256x1x1]\n",
      "  %onnx::Conv_597[FLOAT, 1024]\n",
      "  %onnx::Conv_599[FLOAT, 256x1024x1x1]\n",
      "  %onnx::Conv_600[FLOAT, 256]\n",
      "  %onnx::Conv_602[FLOAT, 256x256x3x3]\n",
      "  %onnx::Conv_603[FLOAT, 256]\n",
      "  %onnx::Conv_605[FLOAT, 1024x256x1x1]\n",
      "  %onnx::Conv_606[FLOAT, 1024]\n",
      "  %onnx::Conv_608[FLOAT, 256x1024x1x1]\n",
      "  %onnx::Conv_609[FLOAT, 256]\n",
      "  %onnx::Conv_611[FLOAT, 256x256x3x3]\n",
      "  %onnx::Conv_612[FLOAT, 256]\n",
      "  %onnx::Conv_614[FLOAT, 1024x256x1x1]\n",
      "  %onnx::Conv_615[FLOAT, 1024]\n",
      "  %onnx::Conv_617[FLOAT, 256x1024x1x1]\n",
      "  %onnx::Conv_618[FLOAT, 256]\n",
      "  %onnx::Conv_620[FLOAT, 256x256x3x3]\n",
      "  %onnx::Conv_621[FLOAT, 256]\n",
      "  %onnx::Conv_623[FLOAT, 1024x256x1x1]\n",
      "  %onnx::Conv_624[FLOAT, 1024]\n",
      "  %onnx::Conv_626[FLOAT, 512x1024x1x1]\n",
      "  %onnx::Conv_627[FLOAT, 512]\n",
      "  %onnx::Conv_629[FLOAT, 512x512x3x3]\n",
      "  %onnx::Conv_630[FLOAT, 512]\n",
      "  %onnx::Conv_632[FLOAT, 2048x512x1x1]\n",
      "  %onnx::Conv_633[FLOAT, 2048]\n",
      "  %onnx::Conv_635[FLOAT, 2048x1024x1x1]\n",
      "  %onnx::Conv_636[FLOAT, 2048]\n",
      "  %onnx::Conv_638[FLOAT, 512x2048x1x1]\n",
      "  %onnx::Conv_639[FLOAT, 512]\n",
      "  %onnx::Conv_641[FLOAT, 512x512x3x3]\n",
      "  %onnx::Conv_642[FLOAT, 512]\n",
      "  %onnx::Conv_644[FLOAT, 2048x512x1x1]\n",
      "  %onnx::Conv_645[FLOAT, 2048]\n",
      "  %onnx::Conv_647[FLOAT, 512x2048x1x1]\n",
      "  %onnx::Conv_648[FLOAT, 512]\n",
      "  %onnx::Conv_650[FLOAT, 512x512x3x3]\n",
      "  %onnx::Conv_651[FLOAT, 512]\n",
      "  %onnx::Conv_653[FLOAT, 2048x512x1x1]\n",
      "  %onnx::Conv_654[FLOAT, 2048]\n",
      ") {\n",
      "  %/conv1/Conv_output_0 = Conv[dilations = [1, 1], group = 1, kernel_shape = [7, 7], pads = [3, 3, 3, 3], strides = [2, 2]](%input, %onnx::Conv_497, %onnx::Conv_498)\n",
      "  %/relu/Relu_output_0 = Relu(%/conv1/Conv_output_0)\n",
      "  %/maxpool/MaxPool_output_0 = MaxPool[ceil_mode = 0, kernel_shape = [3, 3], pads = [1, 1, 1, 1], strides = [2, 2]](%/relu/Relu_output_0)\n",
      "  %/layer1/layer1.0/conv1/Conv_output_0 = Conv[dilations = [1, 1], group = 1, kernel_shape = [1, 1], pads = [0, 0, 0, 0], strides = [1, 1]](%/maxpool/MaxPool_output_0, %onnx::Conv_500, %onnx::Conv_501)\n",
      "  %/layer1/layer1.0/relu/Relu_output_0 = Relu(%/layer1/layer1.0/conv1/Conv_output_0)\n",
      "  %/layer1/layer1.0/conv2/Conv_output_0 = Conv[dilations = [1, 1], group = 1, kernel_shape = [3, 3], pads = [1, 1, 1, 1], strides = [1, 1]](%/layer1/layer1.0/relu/Relu_output_0, %onnx::Conv_503, %onnx::Conv_504)\n",
      "  %/layer1/layer1.0/relu_1/Relu_output_0 = Relu(%/layer1/layer1.0/conv2/Conv_output_0)\n",
      "  %/layer1/layer1.0/conv3/Conv_output_0 = Conv[dilations = [1, 1], group = 1, kernel_shape = [1, 1], pads = [0, 0, 0, 0], strides = [1, 1]](%/layer1/layer1.0/relu_1/Relu_output_0, %onnx::Conv_506, %onnx::Conv_507)\n",
      "  %/layer1/layer1.0/downsample/downsample.0/Conv_output_0 = Conv[dilations = [1, 1], group = 1, kernel_shape = [1, 1], pads = [0, 0, 0, 0], strides = [1, 1]](%/maxpool/MaxPool_output_0, %onnx::Conv_509, %onnx::Conv_510)\n",
      "  %/layer1/layer1.0/Add_output_0 = Add(%/layer1/layer1.0/conv3/Conv_output_0, %/layer1/layer1.0/downsample/downsample.0/Conv_output_0)\n",
      "  %/layer1/layer1.0/relu_2/Relu_output_0 = Relu(%/layer1/layer1.0/Add_output_0)\n",
      "  %/layer1/layer1.1/conv1/Conv_output_0 = Conv[dilations = [1, 1], group = 1, kernel_shape = [1, 1], pads = [0, 0, 0, 0], strides = [1, 1]](%/layer1/layer1.0/relu_2/Relu_output_0, %onnx::Conv_512, %onnx::Conv_513)\n",
      "  %/layer1/layer1.1/relu/Relu_output_0 = Relu(%/layer1/layer1.1/conv1/Conv_output_0)\n",
      "  %/layer1/layer1.1/conv2/Conv_output_0 = Conv[dilations = [1, 1], group = 1, kernel_shape = [3, 3], pads = [1, 1, 1, 1], strides = [1, 1]](%/layer1/layer1.1/relu/Relu_output_0, %onnx::Conv_515, %onnx::Conv_516)\n",
      "  %/layer1/layer1.1/relu_1/Relu_output_0 = Relu(%/layer1/layer1.1/conv2/Conv_output_0)\n",
      "  %/layer1/layer1.1/conv3/Conv_output_0 = Conv[dilations = [1, 1], group = 1, kernel_shape = [1, 1], pads = [0, 0, 0, 0], strides = [1, 1]](%/layer1/layer1.1/relu_1/Relu_output_0, %onnx::Conv_518, %onnx::Conv_519)\n",
      "  %/layer1/layer1.1/Add_output_0 = Add(%/layer1/layer1.1/conv3/Conv_output_0, %/layer1/layer1.0/relu_2/Relu_output_0)\n",
      "  %/layer1/layer1.1/relu_2/Relu_output_0 = Relu(%/layer1/layer1.1/Add_output_0)\n",
      "  %/layer1/layer1.2/conv1/Conv_output_0 = Conv[dilations = [1, 1], group = 1, kernel_shape = [1, 1], pads = [0, 0, 0, 0], strides = [1, 1]](%/layer1/layer1.1/relu_2/Relu_output_0, %onnx::Conv_521, %onnx::Conv_522)\n",
      "  %/layer1/layer1.2/relu/Relu_output_0 = Relu(%/layer1/layer1.2/conv1/Conv_output_0)\n",
      "  %/layer1/layer1.2/conv2/Conv_output_0 = Conv[dilations = [1, 1], group = 1, kernel_shape = [3, 3], pads = [1, 1, 1, 1], strides = [1, 1]](%/layer1/layer1.2/relu/Relu_output_0, %onnx::Conv_524, %onnx::Conv_525)\n",
      "  %/layer1/layer1.2/relu_1/Relu_output_0 = Relu(%/layer1/layer1.2/conv2/Conv_output_0)\n",
      "  %/layer1/layer1.2/conv3/Conv_output_0 = Conv[dilations = [1, 1], group = 1, kernel_shape = [1, 1], pads = [0, 0, 0, 0], strides = [1, 1]](%/layer1/layer1.2/relu_1/Relu_output_0, %onnx::Conv_527, %onnx::Conv_528)\n",
      "  %/layer1/layer1.2/Add_output_0 = Add(%/layer1/layer1.2/conv3/Conv_output_0, %/layer1/layer1.1/relu_2/Relu_output_0)\n",
      "  %/layer1/layer1.2/relu_2/Relu_output_0 = Relu(%/layer1/layer1.2/Add_output_0)\n",
      "  %/layer2/layer2.0/conv1/Conv_output_0 = Conv[dilations = [1, 1], group = 1, kernel_shape = [1, 1], pads = [0, 0, 0, 0], strides = [1, 1]](%/layer1/layer1.2/relu_2/Relu_output_0, %onnx::Conv_530, %onnx::Conv_531)\n",
      "  %/layer2/layer2.0/relu/Relu_output_0 = Relu(%/layer2/layer2.0/conv1/Conv_output_0)\n",
      "  %/layer2/layer2.0/conv2/Conv_output_0 = Conv[dilations = [1, 1], group = 1, kernel_shape = [3, 3], pads = [1, 1, 1, 1], strides = [2, 2]](%/layer2/layer2.0/relu/Relu_output_0, %onnx::Conv_533, %onnx::Conv_534)\n",
      "  %/layer2/layer2.0/relu_1/Relu_output_0 = Relu(%/layer2/layer2.0/conv2/Conv_output_0)\n",
      "  %/layer2/layer2.0/conv3/Conv_output_0 = Conv[dilations = [1, 1], group = 1, kernel_shape = [1, 1], pads = [0, 0, 0, 0], strides = [1, 1]](%/layer2/layer2.0/relu_1/Relu_output_0, %onnx::Conv_536, %onnx::Conv_537)\n",
      "  %/layer2/layer2.0/downsample/downsample.0/Conv_output_0 = Conv[dilations = [1, 1], group = 1, kernel_shape = [1, 1], pads = [0, 0, 0, 0], strides = [2, 2]](%/layer1/layer1.2/relu_2/Relu_output_0, %onnx::Conv_539, %onnx::Conv_540)\n",
      "  %/layer2/layer2.0/Add_output_0 = Add(%/layer2/layer2.0/conv3/Conv_output_0, %/layer2/layer2.0/downsample/downsample.0/Conv_output_0)\n",
      "  %/layer2/layer2.0/relu_2/Relu_output_0 = Relu(%/layer2/layer2.0/Add_output_0)\n",
      "  %/layer2/layer2.1/conv1/Conv_output_0 = Conv[dilations = [1, 1], group = 1, kernel_shape = [1, 1], pads = [0, 0, 0, 0], strides = [1, 1]](%/layer2/layer2.0/relu_2/Relu_output_0, %onnx::Conv_542, %onnx::Conv_543)\n",
      "  %/layer2/layer2.1/relu/Relu_output_0 = Relu(%/layer2/layer2.1/conv1/Conv_output_0)\n",
      "  %/layer2/layer2.1/conv2/Conv_output_0 = Conv[dilations = [1, 1], group = 1, kernel_shape = [3, 3], pads = [1, 1, 1, 1], strides = [1, 1]](%/layer2/layer2.1/relu/Relu_output_0, %onnx::Conv_545, %onnx::Conv_546)\n",
      "  %/layer2/layer2.1/relu_1/Relu_output_0 = Relu(%/layer2/layer2.1/conv2/Conv_output_0)\n",
      "  %/layer2/layer2.1/conv3/Conv_output_0 = Conv[dilations = [1, 1], group = 1, kernel_shape = [1, 1], pads = [0, 0, 0, 0], strides = [1, 1]](%/layer2/layer2.1/relu_1/Relu_output_0, %onnx::Conv_548, %onnx::Conv_549)\n",
      "  %/layer2/layer2.1/Add_output_0 = Add(%/layer2/layer2.1/conv3/Conv_output_0, %/layer2/layer2.0/relu_2/Relu_output_0)\n",
      "  %/layer2/layer2.1/relu_2/Relu_output_0 = Relu(%/layer2/layer2.1/Add_output_0)\n",
      "  %/layer2/layer2.2/conv1/Conv_output_0 = Conv[dilations = [1, 1], group = 1, kernel_shape = [1, 1], pads = [0, 0, 0, 0], strides = [1, 1]](%/layer2/layer2.1/relu_2/Relu_output_0, %onnx::Conv_551, %onnx::Conv_552)\n",
      "  %/layer2/layer2.2/relu/Relu_output_0 = Relu(%/layer2/layer2.2/conv1/Conv_output_0)\n",
      "  %/layer2/layer2.2/conv2/Conv_output_0 = Conv[dilations = [1, 1], group = 1, kernel_shape = [3, 3], pads = [1, 1, 1, 1], strides = [1, 1]](%/layer2/layer2.2/relu/Relu_output_0, %onnx::Conv_554, %onnx::Conv_555)\n",
      "  %/layer2/layer2.2/relu_1/Relu_output_0 = Relu(%/layer2/layer2.2/conv2/Conv_output_0)\n",
      "  %/layer2/layer2.2/conv3/Conv_output_0 = Conv[dilations = [1, 1], group = 1, kernel_shape = [1, 1], pads = [0, 0, 0, 0], strides = [1, 1]](%/layer2/layer2.2/relu_1/Relu_output_0, %onnx::Conv_557, %onnx::Conv_558)\n",
      "  %/layer2/layer2.2/Add_output_0 = Add(%/layer2/layer2.2/conv3/Conv_output_0, %/layer2/layer2.1/relu_2/Relu_output_0)\n",
      "  %/layer2/layer2.2/relu_2/Relu_output_0 = Relu(%/layer2/layer2.2/Add_output_0)\n",
      "  %/layer2/layer2.3/conv1/Conv_output_0 = Conv[dilations = [1, 1], group = 1, kernel_shape = [1, 1], pads = [0, 0, 0, 0], strides = [1, 1]](%/layer2/layer2.2/relu_2/Relu_output_0, %onnx::Conv_560, %onnx::Conv_561)\n",
      "  %/layer2/layer2.3/relu/Relu_output_0 = Relu(%/layer2/layer2.3/conv1/Conv_output_0)\n",
      "  %/layer2/layer2.3/conv2/Conv_output_0 = Conv[dilations = [1, 1], group = 1, kernel_shape = [3, 3], pads = [1, 1, 1, 1], strides = [1, 1]](%/layer2/layer2.3/relu/Relu_output_0, %onnx::Conv_563, %onnx::Conv_564)\n",
      "  %/layer2/layer2.3/relu_1/Relu_output_0 = Relu(%/layer2/layer2.3/conv2/Conv_output_0)\n",
      "  %/layer2/layer2.3/conv3/Conv_output_0 = Conv[dilations = [1, 1], group = 1, kernel_shape = [1, 1], pads = [0, 0, 0, 0], strides = [1, 1]](%/layer2/layer2.3/relu_1/Relu_output_0, %onnx::Conv_566, %onnx::Conv_567)\n",
      "  %/layer2/layer2.3/Add_output_0 = Add(%/layer2/layer2.3/conv3/Conv_output_0, %/layer2/layer2.2/relu_2/Relu_output_0)\n",
      "  %/layer2/layer2.3/relu_2/Relu_output_0 = Relu(%/layer2/layer2.3/Add_output_0)\n",
      "  %/layer3/layer3.0/conv1/Conv_output_0 = Conv[dilations = [1, 1], group = 1, kernel_shape = [1, 1], pads = [0, 0, 0, 0], strides = [1, 1]](%/layer2/layer2.3/relu_2/Relu_output_0, %onnx::Conv_569, %onnx::Conv_570)\n",
      "  %/layer3/layer3.0/relu/Relu_output_0 = Relu(%/layer3/layer3.0/conv1/Conv_output_0)\n",
      "  %/layer3/layer3.0/conv2/Conv_output_0 = Conv[dilations = [1, 1], group = 1, kernel_shape = [3, 3], pads = [1, 1, 1, 1], strides = [2, 2]](%/layer3/layer3.0/relu/Relu_output_0, %onnx::Conv_572, %onnx::Conv_573)\n",
      "  %/layer3/layer3.0/relu_1/Relu_output_0 = Relu(%/layer3/layer3.0/conv2/Conv_output_0)\n",
      "  %/layer3/layer3.0/conv3/Conv_output_0 = Conv[dilations = [1, 1], group = 1, kernel_shape = [1, 1], pads = [0, 0, 0, 0], strides = [1, 1]](%/layer3/layer3.0/relu_1/Relu_output_0, %onnx::Conv_575, %onnx::Conv_576)\n",
      "  %/layer3/layer3.0/downsample/downsample.0/Conv_output_0 = Conv[dilations = [1, 1], group = 1, kernel_shape = [1, 1], pads = [0, 0, 0, 0], strides = [2, 2]](%/layer2/layer2.3/relu_2/Relu_output_0, %onnx::Conv_578, %onnx::Conv_579)\n",
      "  %/layer3/layer3.0/Add_output_0 = Add(%/layer3/layer3.0/conv3/Conv_output_0, %/layer3/layer3.0/downsample/downsample.0/Conv_output_0)\n",
      "  %/layer3/layer3.0/relu_2/Relu_output_0 = Relu(%/layer3/layer3.0/Add_output_0)\n",
      "  %/layer3/layer3.1/conv1/Conv_output_0 = Conv[dilations = [1, 1], group = 1, kernel_shape = [1, 1], pads = [0, 0, 0, 0], strides = [1, 1]](%/layer3/layer3.0/relu_2/Relu_output_0, %onnx::Conv_581, %onnx::Conv_582)\n",
      "  %/layer3/layer3.1/relu/Relu_output_0 = Relu(%/layer3/layer3.1/conv1/Conv_output_0)\n",
      "  %/layer3/layer3.1/conv2/Conv_output_0 = Conv[dilations = [1, 1], group = 1, kernel_shape = [3, 3], pads = [1, 1, 1, 1], strides = [1, 1]](%/layer3/layer3.1/relu/Relu_output_0, %onnx::Conv_584, %onnx::Conv_585)\n",
      "  %/layer3/layer3.1/relu_1/Relu_output_0 = Relu(%/layer3/layer3.1/conv2/Conv_output_0)\n",
      "  %/layer3/layer3.1/conv3/Conv_output_0 = Conv[dilations = [1, 1], group = 1, kernel_shape = [1, 1], pads = [0, 0, 0, 0], strides = [1, 1]](%/layer3/layer3.1/relu_1/Relu_output_0, %onnx::Conv_587, %onnx::Conv_588)\n",
      "  %/layer3/layer3.1/Add_output_0 = Add(%/layer3/layer3.1/conv3/Conv_output_0, %/layer3/layer3.0/relu_2/Relu_output_0)\n",
      "  %/layer3/layer3.1/relu_2/Relu_output_0 = Relu(%/layer3/layer3.1/Add_output_0)\n",
      "  %/layer3/layer3.2/conv1/Conv_output_0 = Conv[dilations = [1, 1], group = 1, kernel_shape = [1, 1], pads = [0, 0, 0, 0], strides = [1, 1]](%/layer3/layer3.1/relu_2/Relu_output_0, %onnx::Conv_590, %onnx::Conv_591)\n",
      "  %/layer3/layer3.2/relu/Relu_output_0 = Relu(%/layer3/layer3.2/conv1/Conv_output_0)\n",
      "  %/layer3/layer3.2/conv2/Conv_output_0 = Conv[dilations = [1, 1], group = 1, kernel_shape = [3, 3], pads = [1, 1, 1, 1], strides = [1, 1]](%/layer3/layer3.2/relu/Relu_output_0, %onnx::Conv_593, %onnx::Conv_594)\n",
      "  %/layer3/layer3.2/relu_1/Relu_output_0 = Relu(%/layer3/layer3.2/conv2/Conv_output_0)\n",
      "  %/layer3/layer3.2/conv3/Conv_output_0 = Conv[dilations = [1, 1], group = 1, kernel_shape = [1, 1], pads = [0, 0, 0, 0], strides = [1, 1]](%/layer3/layer3.2/relu_1/Relu_output_0, %onnx::Conv_596, %onnx::Conv_597)\n",
      "  %/layer3/layer3.2/Add_output_0 = Add(%/layer3/layer3.2/conv3/Conv_output_0, %/layer3/layer3.1/relu_2/Relu_output_0)\n",
      "  %/layer3/layer3.2/relu_2/Relu_output_0 = Relu(%/layer3/layer3.2/Add_output_0)\n",
      "  %/layer3/layer3.3/conv1/Conv_output_0 = Conv[dilations = [1, 1], group = 1, kernel_shape = [1, 1], pads = [0, 0, 0, 0], strides = [1, 1]](%/layer3/layer3.2/relu_2/Relu_output_0, %onnx::Conv_599, %onnx::Conv_600)\n",
      "  %/layer3/layer3.3/relu/Relu_output_0 = Relu(%/layer3/layer3.3/conv1/Conv_output_0)\n",
      "  %/layer3/layer3.3/conv2/Conv_output_0 = Conv[dilations = [1, 1], group = 1, kernel_shape = [3, 3], pads = [1, 1, 1, 1], strides = [1, 1]](%/layer3/layer3.3/relu/Relu_output_0, %onnx::Conv_602, %onnx::Conv_603)\n",
      "  %/layer3/layer3.3/relu_1/Relu_output_0 = Relu(%/layer3/layer3.3/conv2/Conv_output_0)\n",
      "  %/layer3/layer3.3/conv3/Conv_output_0 = Conv[dilations = [1, 1], group = 1, kernel_shape = [1, 1], pads = [0, 0, 0, 0], strides = [1, 1]](%/layer3/layer3.3/relu_1/Relu_output_0, %onnx::Conv_605, %onnx::Conv_606)\n",
      "  %/layer3/layer3.3/Add_output_0 = Add(%/layer3/layer3.3/conv3/Conv_output_0, %/layer3/layer3.2/relu_2/Relu_output_0)\n",
      "  %/layer3/layer3.3/relu_2/Relu_output_0 = Relu(%/layer3/layer3.3/Add_output_0)\n",
      "  %/layer3/layer3.4/conv1/Conv_output_0 = Conv[dilations = [1, 1], group = 1, kernel_shape = [1, 1], pads = [0, 0, 0, 0], strides = [1, 1]](%/layer3/layer3.3/relu_2/Relu_output_0, %onnx::Conv_608, %onnx::Conv_609)\n",
      "  %/layer3/layer3.4/relu/Relu_output_0 = Relu(%/layer3/layer3.4/conv1/Conv_output_0)\n",
      "  %/layer3/layer3.4/conv2/Conv_output_0 = Conv[dilations = [1, 1], group = 1, kernel_shape = [3, 3], pads = [1, 1, 1, 1], strides = [1, 1]](%/layer3/layer3.4/relu/Relu_output_0, %onnx::Conv_611, %onnx::Conv_612)\n",
      "  %/layer3/layer3.4/relu_1/Relu_output_0 = Relu(%/layer3/layer3.4/conv2/Conv_output_0)\n",
      "  %/layer3/layer3.4/conv3/Conv_output_0 = Conv[dilations = [1, 1], group = 1, kernel_shape = [1, 1], pads = [0, 0, 0, 0], strides = [1, 1]](%/layer3/layer3.4/relu_1/Relu_output_0, %onnx::Conv_614, %onnx::Conv_615)\n",
      "  %/layer3/layer3.4/Add_output_0 = Add(%/layer3/layer3.4/conv3/Conv_output_0, %/layer3/layer3.3/relu_2/Relu_output_0)\n",
      "  %/layer3/layer3.4/relu_2/Relu_output_0 = Relu(%/layer3/layer3.4/Add_output_0)\n",
      "  %/layer3/layer3.5/conv1/Conv_output_0 = Conv[dilations = [1, 1], group = 1, kernel_shape = [1, 1], pads = [0, 0, 0, 0], strides = [1, 1]](%/layer3/layer3.4/relu_2/Relu_output_0, %onnx::Conv_617, %onnx::Conv_618)\n",
      "  %/layer3/layer3.5/relu/Relu_output_0 = Relu(%/layer3/layer3.5/conv1/Conv_output_0)\n",
      "  %/layer3/layer3.5/conv2/Conv_output_0 = Conv[dilations = [1, 1], group = 1, kernel_shape = [3, 3], pads = [1, 1, 1, 1], strides = [1, 1]](%/layer3/layer3.5/relu/Relu_output_0, %onnx::Conv_620, %onnx::Conv_621)\n",
      "  %/layer3/layer3.5/relu_1/Relu_output_0 = Relu(%/layer3/layer3.5/conv2/Conv_output_0)\n",
      "  %/layer3/layer3.5/conv3/Conv_output_0 = Conv[dilations = [1, 1], group = 1, kernel_shape = [1, 1], pads = [0, 0, 0, 0], strides = [1, 1]](%/layer3/layer3.5/relu_1/Relu_output_0, %onnx::Conv_623, %onnx::Conv_624)\n",
      "  %/layer3/layer3.5/Add_output_0 = Add(%/layer3/layer3.5/conv3/Conv_output_0, %/layer3/layer3.4/relu_2/Relu_output_0)\n",
      "  %/layer3/layer3.5/relu_2/Relu_output_0 = Relu(%/layer3/layer3.5/Add_output_0)\n",
      "  %/layer4/layer4.0/conv1/Conv_output_0 = Conv[dilations = [1, 1], group = 1, kernel_shape = [1, 1], pads = [0, 0, 0, 0], strides = [1, 1]](%/layer3/layer3.5/relu_2/Relu_output_0, %onnx::Conv_626, %onnx::Conv_627)\n",
      "  %/layer4/layer4.0/relu/Relu_output_0 = Relu(%/layer4/layer4.0/conv1/Conv_output_0)\n",
      "  %/layer4/layer4.0/conv2/Conv_output_0 = Conv[dilations = [1, 1], group = 1, kernel_shape = [3, 3], pads = [1, 1, 1, 1], strides = [2, 2]](%/layer4/layer4.0/relu/Relu_output_0, %onnx::Conv_629, %onnx::Conv_630)\n",
      "  %/layer4/layer4.0/relu_1/Relu_output_0 = Relu(%/layer4/layer4.0/conv2/Conv_output_0)\n",
      "  %/layer4/layer4.0/conv3/Conv_output_0 = Conv[dilations = [1, 1], group = 1, kernel_shape = [1, 1], pads = [0, 0, 0, 0], strides = [1, 1]](%/layer4/layer4.0/relu_1/Relu_output_0, %onnx::Conv_632, %onnx::Conv_633)\n",
      "  %/layer4/layer4.0/downsample/downsample.0/Conv_output_0 = Conv[dilations = [1, 1], group = 1, kernel_shape = [1, 1], pads = [0, 0, 0, 0], strides = [2, 2]](%/layer3/layer3.5/relu_2/Relu_output_0, %onnx::Conv_635, %onnx::Conv_636)\n",
      "  %/layer4/layer4.0/Add_output_0 = Add(%/layer4/layer4.0/conv3/Conv_output_0, %/layer4/layer4.0/downsample/downsample.0/Conv_output_0)\n",
      "  %/layer4/layer4.0/relu_2/Relu_output_0 = Relu(%/layer4/layer4.0/Add_output_0)\n",
      "  %/layer4/layer4.1/conv1/Conv_output_0 = Conv[dilations = [1, 1], group = 1, kernel_shape = [1, 1], pads = [0, 0, 0, 0], strides = [1, 1]](%/layer4/layer4.0/relu_2/Relu_output_0, %onnx::Conv_638, %onnx::Conv_639)\n",
      "  %/layer4/layer4.1/relu/Relu_output_0 = Relu(%/layer4/layer4.1/conv1/Conv_output_0)\n",
      "  %/layer4/layer4.1/conv2/Conv_output_0 = Conv[dilations = [1, 1], group = 1, kernel_shape = [3, 3], pads = [1, 1, 1, 1], strides = [1, 1]](%/layer4/layer4.1/relu/Relu_output_0, %onnx::Conv_641, %onnx::Conv_642)\n",
      "  %/layer4/layer4.1/relu_1/Relu_output_0 = Relu(%/layer4/layer4.1/conv2/Conv_output_0)\n",
      "  %/layer4/layer4.1/conv3/Conv_output_0 = Conv[dilations = [1, 1], group = 1, kernel_shape = [1, 1], pads = [0, 0, 0, 0], strides = [1, 1]](%/layer4/layer4.1/relu_1/Relu_output_0, %onnx::Conv_644, %onnx::Conv_645)\n",
      "  %/layer4/layer4.1/Add_output_0 = Add(%/layer4/layer4.1/conv3/Conv_output_0, %/layer4/layer4.0/relu_2/Relu_output_0)\n",
      "  %/layer4/layer4.1/relu_2/Relu_output_0 = Relu(%/layer4/layer4.1/Add_output_0)\n",
      "  %/layer4/layer4.2/conv1/Conv_output_0 = Conv[dilations = [1, 1], group = 1, kernel_shape = [1, 1], pads = [0, 0, 0, 0], strides = [1, 1]](%/layer4/layer4.1/relu_2/Relu_output_0, %onnx::Conv_647, %onnx::Conv_648)\n",
      "  %/layer4/layer4.2/relu/Relu_output_0 = Relu(%/layer4/layer4.2/conv1/Conv_output_0)\n",
      "  %/layer4/layer4.2/conv2/Conv_output_0 = Conv[dilations = [1, 1], group = 1, kernel_shape = [3, 3], pads = [1, 1, 1, 1], strides = [1, 1]](%/layer4/layer4.2/relu/Relu_output_0, %onnx::Conv_650, %onnx::Conv_651)\n",
      "  %/layer4/layer4.2/relu_1/Relu_output_0 = Relu(%/layer4/layer4.2/conv2/Conv_output_0)\n",
      "  %/layer4/layer4.2/conv3/Conv_output_0 = Conv[dilations = [1, 1], group = 1, kernel_shape = [1, 1], pads = [0, 0, 0, 0], strides = [1, 1]](%/layer4/layer4.2/relu_1/Relu_output_0, %onnx::Conv_653, %onnx::Conv_654)\n",
      "  %/layer4/layer4.2/Add_output_0 = Add(%/layer4/layer4.2/conv3/Conv_output_0, %/layer4/layer4.1/relu_2/Relu_output_0)\n",
      "  %/layer4/layer4.2/relu_2/Relu_output_0 = Relu(%/layer4/layer4.2/Add_output_0)\n",
      "  %/avgpool/GlobalAveragePool_output_0 = GlobalAveragePool(%/layer4/layer4.2/relu_2/Relu_output_0)\n",
      "  %/Flatten_output_0 = Flatten[axis = 1](%/avgpool/GlobalAveragePool_output_0)\n",
      "  %output = Gemm[alpha = 1, beta = 1, transB = 1](%/Flatten_output_0, %fc.weight, %fc.bias)\n",
      "  return %output\n",
      "}\n"
     ]
    }
   ],
   "source": [
    "print(onnx.helper.printable_graph(onnx_model.graph))"
   ]
  },
  {
   "cell_type": "code",
   "execution_count": 10,
   "id": "db5c4d8a",
   "metadata": {
    "ExecuteTime": {
     "end_time": "2023-10-04T03:32:14.958107Z",
     "start_time": "2023-10-04T03:32:12.253823Z"
    }
   },
   "outputs": [
    {
     "name": "stdout",
     "output_type": "stream",
     "text": [
      "onnxruntime版本： 1.16.0\n"
     ]
    }
   ],
   "source": [
    "import torch\n",
    "import onnxruntime\n",
    "print('onnxruntime版本：',onnxruntime.__version__)"
   ]
  },
  {
   "cell_type": "code",
   "execution_count": 13,
   "id": "d1ce83f0",
   "metadata": {
    "ExecuteTime": {
     "end_time": "2023-10-04T03:32:45.346443Z",
     "start_time": "2023-10-04T03:32:45.117516Z"
    }
   },
   "outputs": [
    {
     "data": {
      "text/plain": [
       "(1, 1000)"
      ]
     },
     "execution_count": 13,
     "metadata": {},
     "output_type": "execute_result"
    }
   ],
   "source": [
    "ort_session=onnxruntime.InferenceSession('resnet50_imagenet.onnx',providers=['TensorrtExecutionProvider','CPUExecutionProvider'])\n",
    "x=torch.randn(1,3,224,224).numpy()\n",
    "ort_inputs={'input':x}\n",
    "ort_output=ort_session.run(['output'],ort_inputs)[0]\n",
    "ort_output.shape"
   ]
  }
 ],
 "metadata": {
  "kernelspec": {
   "display_name": "Python [conda env:minst]",
   "language": "python",
   "name": "conda-env-minst-py"
  },
  "language_info": {
   "codemirror_mode": {
    "name": "ipython",
    "version": 3
   },
   "file_extension": ".py",
   "mimetype": "text/x-python",
   "name": "python",
   "nbconvert_exporter": "python",
   "pygments_lexer": "ipython3",
   "version": "3.9.18"
  }
 },
 "nbformat": 4,
 "nbformat_minor": 5
}
