{
 "cells": [
  {
   "cell_type": "code",
   "execution_count": 3,
   "id": "a8a7cd59",
   "metadata": {
    "ExecuteTime": {
     "end_time": "2023-10-05T01:15:36.860159Z",
     "start_time": "2023-10-05T01:15:34.184156Z"
    }
   },
   "outputs": [
    {
     "name": "stdout",
     "output_type": "stream",
     "text": [
      "torch版本： 2.0.1+cu117\n"
     ]
    }
   ],
   "source": [
    "import torch\n",
    "print('torch版本：',torch.__version__)"
   ]
  },
  {
   "cell_type": "code",
   "execution_count": 4,
   "id": "d896500c",
   "metadata": {
    "ExecuteTime": {
     "end_time": "2023-10-05T01:15:37.869697Z",
     "start_time": "2023-10-05T01:15:36.863222Z"
    }
   },
   "outputs": [
    {
     "name": "stdout",
     "output_type": "stream",
     "text": [
      "device cuda:0\n"
     ]
    }
   ],
   "source": [
    "device= torch.device('cuda:0' if torch.cuda.is_available() else 'cpu')\n",
    "print('device',device)"
   ]
  },
  {
   "cell_type": "code",
   "execution_count": 5,
   "id": "e267db45",
   "metadata": {
    "ExecuteTime": {
     "end_time": "2023-10-05T01:15:38.196468Z",
     "start_time": "2023-10-05T01:15:37.871760Z"
    }
   },
   "outputs": [],
   "source": [
    "from torchvision import models"
   ]
  },
  {
   "cell_type": "code",
   "execution_count": 7,
   "id": "5cd81524",
   "metadata": {
    "ExecuteTime": {
     "end_time": "2023-10-05T01:16:58.765925Z",
     "start_time": "2023-10-05T01:16:36.966138Z"
    }
   },
   "outputs": [
    {
     "name": "stderr",
     "output_type": "stream",
     "text": [
      "Downloading: \"https://download.pytorch.org/models/resnet50-0676ba61.pth\" to C:\\Users\\tegco/.cache\\torch\\hub\\checkpoints\\resnet50-0676ba61.pth\n",
      "100.0%\n"
     ]
    },
    {
     "data": {
      "text/plain": [
       "torch.Size([1, 1000])"
      ]
     },
     "execution_count": 7,
     "metadata": {},
     "output_type": "execute_result"
    }
   ],
   "source": [
    "model= models.resnet50(weights=\"IMAGENET1K_V1\").to(device)\n",
    "model=model.eval()\n",
    "x=torch.randn(1,3,224,224).to(device)\n",
    "output=model(x)\n",
    "output.shape"
   ]
  },
  {
   "cell_type": "code",
   "execution_count": 8,
   "id": "21831353",
   "metadata": {
    "ExecuteTime": {
     "end_time": "2023-10-05T01:18:14.309583Z",
     "start_time": "2023-10-05T01:18:14.245013Z"
    }
   },
   "outputs": [
    {
     "name": "stdout",
     "output_type": "stream",
     "text": [
      "onnx版本： 1.14.1\n"
     ]
    }
   ],
   "source": [
    "import onnx\n",
    "print('onnx版本：',onnx.__version__)"
   ]
  },
  {
   "cell_type": "code",
   "execution_count": 9,
   "id": "db5c4d8a",
   "metadata": {
    "ExecuteTime": {
     "end_time": "2023-10-05T01:18:16.152856Z",
     "start_time": "2023-10-05T01:18:16.060694Z"
    }
   },
   "outputs": [
    {
     "name": "stdout",
     "output_type": "stream",
     "text": [
      "onnxruntime版本： 1.16.0\n"
     ]
    }
   ],
   "source": [
    "import onnxruntime\n",
    "print('onnxruntime版本：',onnxruntime.__version__)"
   ]
  }
 ],
 "metadata": {
  "kernelspec": {
   "display_name": "Python [conda env:minst]",
   "language": "python",
   "name": "conda-env-minst-py"
  },
  "language_info": {
   "codemirror_mode": {
    "name": "ipython",
    "version": 3
   },
   "file_extension": ".py",
   "mimetype": "text/x-python",
   "name": "python",
   "nbconvert_exporter": "python",
   "pygments_lexer": "ipython3",
   "version": "3.9.18"
  }
 },
 "nbformat": 4,
 "nbformat_minor": 5
}
